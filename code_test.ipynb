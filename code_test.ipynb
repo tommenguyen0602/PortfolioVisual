{
 "cells": [
  {
   "cell_type": "code",
   "execution_count": 1,
   "metadata": {},
   "outputs": [],
   "source": [
    "import requests\n",
    "from bs4 import BeautifulSoup\n",
    "import csv\n",
    "import pandas as pd\n",
    "import re\n",
    "import numpy as np"
   ]
  },
  {
   "cell_type": "code",
   "execution_count": 11,
   "metadata": {},
   "outputs": [
    {
     "name": "stdout",
     "output_type": "stream",
     "text": [
      "          A         B\n",
      "0  0.922464 -1.939041\n",
      "1  0.887018  0.042665\n",
      "2  0.487670  0.004410\n",
      "3  0.624976  0.210077\n",
      "4 -0.832232  0.140843\n",
      "5  1.135078 -0.077087\n",
      "6 -0.768194 -0.169030\n",
      "7 -1.834598  1.501703\n",
      "8 -1.394534  1.416235\n",
      "9 -0.201731 -0.037657\n"
     ]
    },
    {
     "data": {
      "text/plain": [
       "4   -0.832232\n",
       "5    1.135078\n",
       "Name: A, dtype: float64"
      ]
     },
     "execution_count": 11,
     "metadata": {},
     "output_type": "execute_result"
    }
   ],
   "source": [
    "df = pd.DataFrame(np.random.randn(10,2), columns=['A','B'])\n",
    "print(df)\n",
    "df.iloc[4:6]['A']"
   ]
  }
 ],
 "metadata": {
  "kernelspec": {
   "display_name": "Python 3",
   "language": "python",
   "name": "python3"
  },
  "language_info": {
   "codemirror_mode": {
    "name": "ipython",
    "version": 3
   },
   "file_extension": ".py",
   "mimetype": "text/x-python",
   "name": "python",
   "nbconvert_exporter": "python",
   "pygments_lexer": "ipython3",
   "version": "3.11.2"
  },
  "orig_nbformat": 4
 },
 "nbformat": 4,
 "nbformat_minor": 2
}
