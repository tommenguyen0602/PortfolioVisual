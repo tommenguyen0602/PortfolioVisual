{
 "cells": [
  {
   "cell_type": "code",
   "execution_count": 1,
   "metadata": {},
   "outputs": [],
   "source": [
    "import requests\n",
    "from bs4 import BeautifulSoup\n",
    "import csv\n",
    "import pandas as pd\n",
    "import re\n",
    "import numpy as np"
   ]
  },
  {
   "cell_type": "code",
   "execution_count": null,
   "metadata": {},
   "outputs": [],
   "source": []
  },
  {
   "cell_type": "code",
   "execution_count": 11,
   "metadata": {},
   "outputs": [
    {
     "name": "stdout",
     "output_type": "stream",
     "text": [
      "          A         B\n",
      "0  0.922464 -1.939041\n",
      "1  0.887018  0.042665\n",
      "2  0.487670  0.004410\n",
      "3  0.624976  0.210077\n",
      "4 -0.832232  0.140843\n",
      "5  1.135078 -0.077087\n",
      "6 -0.768194 -0.169030\n",
      "7 -1.834598  1.501703\n",
      "8 -1.394534  1.416235\n",
      "9 -0.201731 -0.037657\n"
     ]
    },
    {
     "data": {
      "text/plain": [
       "4   -0.832232\n",
       "5    1.135078\n",
       "Name: A, dtype: float64"
      ]
     },
     "execution_count": 11,
     "metadata": {},
     "output_type": "execute_result"
    }
   ],
   "source": [
    "df = pd.DataFrame(np.random.randn(10,2), columns=['A','B'])\n",
    "print(df)\n",
    "df.iloc[4:6]['A']"
   ]
  },
  {
   "cell_type": "code",
   "execution_count": 9,
   "metadata": {},
   "outputs": [
    {
     "ename": "IndexError",
     "evalue": "list index out of range",
     "output_type": "error",
     "traceback": [
      "\u001b[1;31m---------------------------------------------------------------------------\u001b[0m",
      "\u001b[1;31mIndexError\u001b[0m                                Traceback (most recent call last)",
      "Cell \u001b[1;32mIn[9], line 15\u001b[0m\n\u001b[0;32m     12\u001b[0m text_soup \u001b[39m=\u001b[39m BeautifulSoup(\u001b[39mstr\u001b[39m(text_element), \u001b[39m'\u001b[39m\u001b[39mhtml.parser\u001b[39m\u001b[39m'\u001b[39m)\n\u001b[0;32m     14\u001b[0m \u001b[39m# get the second <tspan> element inside <text> element\u001b[39;00m\n\u001b[1;32m---> 15\u001b[0m tspan_element \u001b[39m=\u001b[39m text_soup\u001b[39m.\u001b[39;49mfind_all(\u001b[39m'\u001b[39;49m\u001b[39mtspan\u001b[39;49m\u001b[39m'\u001b[39;49m)[\u001b[39m0\u001b[39;49m]\n\u001b[0;32m     17\u001b[0m \u001b[39m# extract the text inside <tspan> element\u001b[39;00m\n\u001b[0;32m     18\u001b[0m drawdown_text \u001b[39m=\u001b[39m tspan_element\u001b[39m.\u001b[39mtext\n",
      "\u001b[1;31mIndexError\u001b[0m: list index out of range"
     ]
    }
   ],
   "source": [
    "from bs4 import BeautifulSoup\n",
    "\n",
    "html = '<text x=\"122\" y=\"92\" font-size=\"13\" fill=\"rgb(0,0,0)\" font-family=\"Trebuchet MS\" text-anchor=\"middle\"><tspan dy=\"0\" x=\"67\">Maximum</tspan><tspan dy=\"16\" x=\"67\">drawdown: 13.8%</tspan></text>'\n",
    "\n",
    "# create BeautifulSoup object with 'html.parser'\n",
    "soup = BeautifulSoup(html, 'html.parser')\n",
    "\n",
    "# find the <text> element by treating it as a string\n",
    "text_element = soup.find(string=lambda text: isinstance(text, str) and 'Maximum' in text)\n",
    "\n",
    "# convert the <text> element to a BeautifulSoup object\n",
    "text_soup = BeautifulSoup(str(text_element), 'html.parser')\n",
    "\n",
    "# get the second <tspan> element inside <text> element\n",
    "tspan_element = text_soup.find_all('tspan')[0]\n",
    "\n",
    "# extract the text inside <tspan> element\n",
    "drawdown_text = tspan_element.text\n",
    "\n",
    "# extract the drawdown percentage value using regex\n",
    "import re\n",
    "drawdown_percentage = re.search(r'\\d+\\.\\d+%', drawdown_text).group(0)\n",
    "\n",
    "print(drawdown_percentage)  # output: 13.8%"
   ]
  }
 ],
 "metadata": {
  "kernelspec": {
   "display_name": "Python 3",
   "language": "python",
   "name": "python3"
  },
  "language_info": {
   "codemirror_mode": {
    "name": "ipython",
    "version": 3
   },
   "file_extension": ".py",
   "mimetype": "text/x-python",
   "name": "python",
   "nbconvert_exporter": "python",
   "pygments_lexer": "ipython3",
   "version": "3.11.3"
  },
  "orig_nbformat": 4
 },
 "nbformat": 4,
 "nbformat_minor": 2
}
