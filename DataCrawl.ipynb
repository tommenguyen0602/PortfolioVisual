{
  "cells": [
    {
      "cell_type": "markdown",
      "metadata": {},
      "source": []
    },
    {
      "cell_type": "code",
      "execution_count": 1,
      "metadata": {
        "colab": {
          "base_uri": "https://localhost:8080/"
        },
        "id": "j6ztmLQM9-QD",
        "outputId": "8feb4852-6609-4238-c892-d4dcbe52e812"
      },
      "outputs": [
        {
          "name": "stdout",
          "output_type": "stream",
          "text": [
            "Looking in indexes: https://pypi.org/simple, https://us-python.pkg.dev/colab-wheels/public/simple/\n",
            "Requirement already satisfied: beautifulsoup4 in /usr/local/lib/python3.10/dist-packages (4.11.2)\n",
            "Requirement already satisfied: requests in /usr/local/lib/python3.10/dist-packages (2.27.1)\n",
            "Collecting selenium\n",
            "  Downloading selenium-4.9.0-py3-none-any.whl (6.5 MB)\n",
            "\u001b[2K     \u001b[90m━━━━━━━━━━━━━━━━━━━━━━━━━━━━━━━━━━━━━━━━\u001b[0m \u001b[32m6.5/6.5 MB\u001b[0m \u001b[31m64.5 MB/s\u001b[0m eta \u001b[36m0:00:00\u001b[0m\n",
            "\u001b[?25hRequirement already satisfied: soupsieve>1.2 in /usr/local/lib/python3.10/dist-packages (from beautifulsoup4) (2.4.1)\n",
            "Requirement already satisfied: urllib3<1.27,>=1.21.1 in /usr/local/lib/python3.10/dist-packages (from requests) (1.26.15)\n",
            "Requirement already satisfied: certifi>=2017.4.17 in /usr/local/lib/python3.10/dist-packages (from requests) (2022.12.7)\n",
            "Requirement already satisfied: charset-normalizer~=2.0.0 in /usr/local/lib/python3.10/dist-packages (from requests) (2.0.12)\n",
            "Requirement already satisfied: idna<4,>=2.5 in /usr/local/lib/python3.10/dist-packages (from requests) (3.4)\n",
            "Collecting trio~=0.17 (from selenium)\n",
            "  Downloading trio-0.22.0-py3-none-any.whl (384 kB)\n",
            "\u001b[2K     \u001b[90m━━━━━━━━━━━━━━━━━━━━━━━━━━━━━━━━━━━━━━\u001b[0m \u001b[32m384.9/384.9 kB\u001b[0m \u001b[31m38.7 MB/s\u001b[0m eta \u001b[36m0:00:00\u001b[0m\n",
            "\u001b[?25hCollecting trio-websocket~=0.9 (from selenium)\n",
            "  Downloading trio_websocket-0.10.2-py3-none-any.whl (17 kB)\n",
            "Requirement already satisfied: attrs>=19.2.0 in /usr/local/lib/python3.10/dist-packages (from trio~=0.17->selenium) (23.1.0)\n",
            "Requirement already satisfied: sortedcontainers in /usr/local/lib/python3.10/dist-packages (from trio~=0.17->selenium) (2.4.0)\n",
            "Collecting async-generator>=1.9 (from trio~=0.17->selenium)\n",
            "  Downloading async_generator-1.10-py3-none-any.whl (18 kB)\n",
            "Collecting outcome (from trio~=0.17->selenium)\n",
            "  Downloading outcome-1.2.0-py2.py3-none-any.whl (9.7 kB)\n",
            "Requirement already satisfied: sniffio in /usr/local/lib/python3.10/dist-packages (from trio~=0.17->selenium) (1.3.0)\n",
            "Requirement already satisfied: exceptiongroup>=1.0.0rc9 in /usr/local/lib/python3.10/dist-packages (from trio~=0.17->selenium) (1.1.1)\n",
            "Collecting wsproto>=0.14 (from trio-websocket~=0.9->selenium)\n",
            "  Downloading wsproto-1.2.0-py3-none-any.whl (24 kB)\n",
            "Requirement already satisfied: PySocks!=1.5.7,<2.0,>=1.5.6 in /usr/local/lib/python3.10/dist-packages (from urllib3<1.27,>=1.21.1->requests) (1.7.1)\n",
            "Collecting h11<1,>=0.9.0 (from wsproto>=0.14->trio-websocket~=0.9->selenium)\n",
            "  Downloading h11-0.14.0-py3-none-any.whl (58 kB)\n",
            "\u001b[2K     \u001b[90m━━━━━━━━━━━━━━━━━━━━━━━━━━━━━━━━━━━━━━━━\u001b[0m \u001b[32m58.3/58.3 kB\u001b[0m \u001b[31m9.0 MB/s\u001b[0m eta \u001b[36m0:00:00\u001b[0m\n",
            "\u001b[?25hInstalling collected packages: outcome, h11, async-generator, wsproto, trio, trio-websocket, selenium\n",
            "Successfully installed async-generator-1.10 h11-0.14.0 outcome-1.2.0 selenium-4.9.0 trio-0.22.0 trio-websocket-0.10.2 wsproto-1.2.0\n"
          ]
        }
      ],
      "source": [
        "#!pip install beautifulsoup4 requests selenium"
      ]
    },
    {
      "attachments": {},
      "cell_type": "markdown",
      "metadata": {},
      "source": [
        "Collecting Signal IDs"
      ]
    },
    {
      "cell_type": "code",
      "execution_count": 4,
      "metadata": {
        "id": "ydFaJMuI-sky"
      },
      "outputs": [],
      "source": [
        "import requests\n",
        "from bs4 import BeautifulSoup\n",
        "import csv\n",
        "import pandas as pd\n",
        "\n",
        "# The base URL of the website we want to crawl\n",
        "base_url = 'https://www.mql5.com/en/signals/mt5/list/page'\n",
        "\n",
        "# The list of pages we want to crawl // Useless code \n",
        "page_urls = ['1', '2', '3', '4', '5']\n",
        "\n",
        "# The CSV file we want to write the data to\n",
        "csv_file = open('signal_list.csv', 'w', newline='')\n",
        "writer = csv.writer(csv_file)\n",
        "writer.writerow(['Signal Id'])\n",
        "\n",
        "# Loop over each page URL and extract the Signal ID data\n",
        "for page_url in page_urls:\n",
        "    # Construct the full URL for the page\n",
        "    url = base_url + page_url\n",
        "\n",
        "    # Make a GET request to the page\n",
        "    response = requests.get(url)\n",
        "\n",
        "    # Parse the HTML content of the page using BeautifulSoup\n",
        "    soup = BeautifulSoup(response.content, 'html.parser')\n",
        "\n",
        "    # Find all the element has id \n",
        "    ids = soup.find_all('div', class_='button button_white-and-green')\n",
        "\n",
        "    #extrac the id\n",
        "    for id in ids:\n",
        "        name = id.get(\"data-id\")\n",
        "        # Write the data to the CSV file\n",
        "        writer.writerow([name])\n",
        "\n",
        "# Close the CSV file\n",
        "csv_file.close()\n"
      ]
    },
    {
      "attachments": {},
      "cell_type": "markdown",
      "metadata": {},
      "source": [
        "Viewing IDs List"
      ]
    },
    {
      "cell_type": "code",
      "execution_count": 2,
      "metadata": {},
      "outputs": [
        {
          "data": {
            "text/html": [
              "<div>\n",
              "<style scoped>\n",
              "    .dataframe tbody tr th:only-of-type {\n",
              "        vertical-align: middle;\n",
              "    }\n",
              "\n",
              "    .dataframe tbody tr th {\n",
              "        vertical-align: top;\n",
              "    }\n",
              "\n",
              "    .dataframe thead th {\n",
              "        text-align: right;\n",
              "    }\n",
              "</style>\n",
              "<table border=\"1\" class=\"dataframe\">\n",
              "  <thead>\n",
              "    <tr style=\"text-align: right;\">\n",
              "      <th></th>\n",
              "      <th>Signal Id</th>\n",
              "    </tr>\n",
              "  </thead>\n",
              "  <tbody>\n",
              "    <tr>\n",
              "      <th>0</th>\n",
              "      <td>1368342</td>\n",
              "    </tr>\n",
              "    <tr>\n",
              "      <th>1</th>\n",
              "      <td>1636506</td>\n",
              "    </tr>\n",
              "    <tr>\n",
              "      <th>2</th>\n",
              "      <td>843451</td>\n",
              "    </tr>\n",
              "    <tr>\n",
              "      <th>3</th>\n",
              "      <td>1486477</td>\n",
              "    </tr>\n",
              "    <tr>\n",
              "      <th>4</th>\n",
              "      <td>1818780</td>\n",
              "    </tr>\n",
              "    <tr>\n",
              "      <th>...</th>\n",
              "      <td>...</td>\n",
              "    </tr>\n",
              "    <tr>\n",
              "      <th>235</th>\n",
              "      <td>1808069</td>\n",
              "    </tr>\n",
              "    <tr>\n",
              "      <th>236</th>\n",
              "      <td>1774499</td>\n",
              "    </tr>\n",
              "    <tr>\n",
              "      <th>237</th>\n",
              "      <td>1774608</td>\n",
              "    </tr>\n",
              "    <tr>\n",
              "      <th>238</th>\n",
              "      <td>1803247</td>\n",
              "    </tr>\n",
              "    <tr>\n",
              "      <th>239</th>\n",
              "      <td>1613282</td>\n",
              "    </tr>\n",
              "  </tbody>\n",
              "</table>\n",
              "<p>240 rows × 1 columns</p>\n",
              "</div>"
            ],
            "text/plain": [
              "     Signal Id\n",
              "0      1368342\n",
              "1      1636506\n",
              "2       843451\n",
              "3      1486477\n",
              "4      1818780\n",
              "..         ...\n",
              "235    1808069\n",
              "236    1774499\n",
              "237    1774608\n",
              "238    1803247\n",
              "239    1613282\n",
              "\n",
              "[240 rows x 1 columns]"
            ]
          },
          "execution_count": 2,
          "metadata": {},
          "output_type": "execute_result"
        }
      ],
      "source": [
        "import pandas as pd\n",
        "IDs = pd.read_csv(\"signal_list.csv\")\n",
        "IDs\n"
      ]
    },
    {
      "cell_type": "code",
      "execution_count": null,
      "metadata": {
        "id": "3rL9IaHTBZbP"
      },
      "outputs": [],
      "source": [
        "base_url_singleID = 'https://www.mql5.com/en/signals/'\n",
        "\n",
        "#load the csv containing Signal IDs\n",
        "with open('signal_list.csv', 'r') as IDListFile:\n",
        "  csv_reader = csv.reader(IDListFile)\n",
        "  for row in csv_reader:\n",
        "    # Construct the full URL for the page\n",
        "    url = base_url_singleID + str(row[0]) + \"?source=Unknown#!tab=stats\"\n",
        "\n",
        "    # Make a GET request to the page\n",
        "    response = requests.get(url)\n",
        "\n",
        "    # Parse the HTML content of the page using BeautifulSoup\n",
        "    soup = BeautifulSoup(response.content, 'html.parser')\n",
        "\n",
        "\n",
        "    \n",
        "    values = soup.find_all('div', class_='s-data-columns__value')\n",
        "\n",
        "    # Loop over each product and extract the data\n",
        "    for value in values:\n",
        "      Trades = value.text();\n",
        "      \n",
        "\n",
        "\n",
        "\n",
        "\n",
        "\n",
        "\n",
        "        # Write the data to the CSV file\n",
        "        writer.writerow([name])\n",
        "\n",
        "# Loop over each page URL and extract the product data\n",
        "for page_url in page_urls:\n",
        "    # Construct the full URL for the page\n",
        "    url = base_url + page_url\n",
        "\n",
        "    # Make a GET request to the page\n",
        "    response = requests.get(url)\n",
        "\n",
        "    # Parse the HTML content of the page using BeautifulSoup\n",
        "    soup = BeautifulSoup(response.content, 'html.parser')\n",
        "\n",
        "    # Find all the product elements on the page\n",
        "    products = soup.find_all('div', class_='button button_white-and-green')\n",
        "\n",
        "    # Loop over each product and extract the data\n",
        "    for product in products:\n",
        "        name = product.get(\"data-id\")\n",
        "        # Write the data to the CSV file\n",
        "        writer.writerow([name])\n",
        "\n",
        "# Close the CSV file\n",
        "full_csv_file.close()"
      ]
    },
    {
      "cell_type": "markdown",
      "metadata": {
        "id": "TLyREx7CD5PH"
      },
      "source": [
        "Load the Ids"
      ]
    },
    {
      "cell_type": "code",
      "execution_count": null,
      "metadata": {
        "id": "81dF4D6wVqcU"
      },
      "outputs": [],
      "source": [
        "\n",
        "\n",
        "\n"
      ]
    },
    {
      "cell_type": "markdown",
      "metadata": {
        "id": "5wmyibjxXFUs"
      },
      "source": [
        "Test one id"
      ]
    },
    {
      "cell_type": "code",
      "execution_count": null,
      "metadata": {},
      "outputs": [],
      "source": []
    },
    {
      "cell_type": "code",
      "execution_count": 51,
      "metadata": {
        "colab": {
          "base_uri": "https://localhost:8080/"
        },
        "id": "nJlaCpKoVqh9",
        "outputId": "009cc2ce-fa48-4d0b-9670-f1ee9ff5d3af"
      },
      "outputs": [
        {
          "name": "stdout",
          "output_type": "stream",
          "text": [
            "520\n",
            "507 (97.50%)\n",
            "13 (2.50%)\n",
            "\n",
            "183.04 USD\n",
            "                  \n",
            "\n",
            "-3 168.30 USD\n",
            "                  \n",
            "\n",
            "8 879.70 USD\n",
            " (403 489 pips)                  \n",
            "\n",
            "-9 029.53 USD\n",
            " (73 820 pips)                  \n",
            "125 (1 846.61 USD)\n",
            "2 284.05 USD (98)\n",
            "0.03\n",
            "100.00%\n",
            "15.64%\n",
            "4 days ago\n",
            "14\n",
            "2 days\n",
            "-0.02\n",
            "386 (74.23%)\n",
            "134 (25.77%)\n",
            "0.98\n",
            "\n",
            "-0.29 USD\n",
            "                  \n",
            "\n",
            "17.51 USD\n",
            "                  \n",
            "\n",
            "-694.58 USD\n",
            "                  \n",
            "4 (-7 636.15 USD)\n",
            "-7 636.15 USD (4)\n",
            "\n",
            "-27.05%\n",
            "\n",
            "\n",
            "-100.00%\n",
            "\n",
            "0%\n",
            "\n",
            "183.04 USD\n",
            "                    \n",
            "125 (1 846.61 USD)\n",
            "2 284.05 USD (98)\n",
            "\n",
            "-3 168.30 USD\n",
            "                    \n",
            "4 (-7 636.15 USD)\n",
            "-7 636.15 USD (4)\n",
            "\n",
            "1 028.03 USD\n",
            "                    \n",
            "7 636.15 USD (112.15%)\n",
            "35.55% (7 642.76 USD)\n",
            "43.97% (9 449.76 USD)\n"
          ]
        }
      ],
      "source": [
        "response = requests.get(\"https://www.mql5.com/en/signals/1909561?source=Unknown#!tab=stats\")\n",
        "soup = BeautifulSoup(response.content, 'html.parser')\n",
        "values = soup.find_all('div', class_='s-data-columns__value')\n",
        "\n",
        "    # Loop over each product and extract the data\n",
        "for value in values:\n",
        "  print(value.text)"
      ]
    },
    {
      "attachments": {},
      "cell_type": "markdown",
      "metadata": {},
      "source": [
        "Manual Data Gathering "
      ]
    },
    {
      "cell_type": "code",
      "execution_count": 52,
      "metadata": {},
      "outputs": [],
      "source": [
        "import re\n",
        "\n",
        "\n",
        "# Get total number of trades\n",
        "signalTrades = values[0].text \n",
        "\n",
        "\n",
        "# Get total number of profit trades\n",
        "s = values[1].text\n",
        "number_regex = r\"([\\d\\s]+)\\s*\\(.*\\)\"\n",
        "match = re.search(number_regex, s)\n",
        "if match:\n",
        "    number = match.group(1)\n",
        "    # Remove spaces and normalize the number\n",
        "    normalized_number = float(number.replace(\" \", \"\").replace(\",\", \"\"))\n",
        "signalProfitTrades = normalized_number\n",
        "\n",
        "# Get total number of loss trades\n",
        "\n",
        "s = values[2].text\n",
        "number_regex = r\"([\\d\\s]+)\\s*\\(.*\\)\"\n",
        "match = re.search(number_regex, s)\n",
        "if match:\n",
        "    number = match.group(1)\n",
        "    # Remove spaces and normalize the number\n",
        "    normalized_number = float(number.replace(\" \", \"\").replace(\",\", \"\"))\n",
        "signalLossTrades = normalized_number\n",
        "\n",
        "signalBestTrade = values[3].find('i').text\n",
        "signalWorstTrade = values[4].find('i').text\n",
        "\n",
        "signalGrossProfit = values[5].find('i').text\n",
        "signalGrossLoss = values[6].find('i').text\n",
        "\n",
        "signalSharpeRatio = values[9].text\n",
        "\n",
        "signalRecoveryFactor = values[15].text\n",
        "\n",
        "\n",
        "signalProfitFactor = values[18].text\n",
        "\n",
        "signalExpectedPayoff = values[19].find('i').text\n",
        "\n"
      ]
    },
    {
      "cell_type": "code",
      "execution_count": 53,
      "metadata": {},
      "outputs": [
        {
          "name": "stdout",
          "output_type": "stream",
          "text": [
            "1306.0\n"
          ]
        }
      ],
      "source": [
        "import re\n",
        "\n",
        "s = \"1 306 (70.63%)\"\n",
        "number_regex = r\"([\\d\\s]+)\\s*\\(.*\\)\"\n",
        "match = re.search(number_regex, s)\n",
        "if match:\n",
        "    number = match.group(1)\n",
        "    # Remove spaces and normalize the number\n",
        "    normalized_number = float(number.replace(\" \", \"\").replace(\",\", \"\"))\n",
        "\n",
        "print(normalized_number)"
      ]
    }
  ],
  "metadata": {
    "colab": {
      "provenance": []
    },
    "kernelspec": {
      "display_name": "Python 3",
      "name": "python3"
    },
    "language_info": {
      "codemirror_mode": {
        "name": "ipython",
        "version": 3
      },
      "file_extension": ".py",
      "mimetype": "text/x-python",
      "name": "python",
      "nbconvert_exporter": "python",
      "pygments_lexer": "ipython3",
      "version": "3.11.3"
    }
  },
  "nbformat": 4,
  "nbformat_minor": 0
}
