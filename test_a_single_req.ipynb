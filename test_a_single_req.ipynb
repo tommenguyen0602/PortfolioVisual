{
 "cells": [
  {
   "cell_type": "code",
   "execution_count": 1,
   "metadata": {},
   "outputs": [],
   "source": [
    "import requests\n",
    "from bs4 import BeautifulSoup\n",
    "import csv\n",
    "import pandas as pd\n",
    "import re\n",
    "import numpy as np"
   ]
  },
  {
   "attachments": {},
   "cell_type": "markdown",
   "metadata": {},
   "source": [
    "Get data from a signal"
   ]
  },
  {
   "cell_type": "code",
   "execution_count": 2,
   "metadata": {},
   "outputs": [],
   "source": [
    "baseurl = \"https://www.mql5.com/en/signals/1882495?source=Site+Signals+MT5+Tile#!tab=stats\"\n",
    "response = requests.get(baseurl)\n",
    "soup = BeautifulSoup(response.content, 'html.parser')\n",
    "values = soup.find_all('div', class_='s-data-columns__value')\n"
   ]
  },
  {
   "cell_type": "code",
   "execution_count": 5,
   "metadata": {},
   "outputs": [],
   "source": [
    "\n",
    " # Loop over each product and extract the data\n",
    "\n",
    "signalTrades = values[0].text \n",
    "\n",
    "\n",
    "# Get total number of profit trades\n",
    "s = values[1].text\n",
    "number_regex = r\"([\\d\\s]+)\\s*\\(.*\\)\"\n",
    "match = re.search(number_regex, s)\n",
    "if match:\n",
    "    number = match.group(1)\n",
    "    # Remove spaces and normalize the number\n",
    "    normalized_number = float(number.replace(\" \", \"\").replace(\",\", \"\"))\n",
    "signalProfitTrades = normalized_number\n",
    "\n",
    "# Get total number of loss trades\n",
    "\n",
    "s = values[2].text\n",
    "number_regex = r\"([\\d\\s]+)\\s*\\(.*\\)\"\n",
    "match = re.search(number_regex, s)\n",
    "if match:\n",
    "    number = match.group(1)\n",
    "    # Remove spaces and normalize the number\n",
    "    normalized_number = float(number.replace(\" \", \"\").replace(\",\", \"\"))\n",
    "signalLossTrades = normalized_number\n",
    "\n",
    "signalBestTrade = values[3].find('i').text\n",
    "signalWorstTrade = values[4].find('i').text\n",
    "\n",
    "signalGrossProfit = values[5].find('i').text\n",
    "signalGrossLoss = values[6].find('i').text\n",
    "\n",
    "signalMaximumConsecutiveWins = None\n",
    "signalMaximalConsecutiveProfit = None\n",
    "\n",
    "\n",
    "string = values[7].text\n",
    "matches = re.findall(r'\\d+(?:\\.\\d+)?', string)\n",
    "\n",
    "if matches:\n",
    "    signalMaximumConsecutiveWins = matches[0]\n",
    "    signalMaximalConsecutiveProfit = matches[1]\n",
    "    \n",
    "\n",
    "\n",
    "signalSharpeRatio = values[9].text\n",
    "\n",
    "signalRecoveryFactor = values[15].text\n",
    "\n",
    "\n",
    "signalProfitFactor = values[18].text\n",
    "\n",
    "signalExpectedPayoff = values[19].find('i').text"
   ]
  }
 ],
 "metadata": {
  "kernelspec": {
   "display_name": "Python 3",
   "language": "python",
   "name": "python3"
  },
  "language_info": {
   "codemirror_mode": {
    "name": "ipython",
    "version": 3
   },
   "file_extension": ".py",
   "mimetype": "text/x-python",
   "name": "python",
   "nbconvert_exporter": "python",
   "pygments_lexer": "ipython3",
   "version": "3.11.2"
  },
  "orig_nbformat": 4
 },
 "nbformat": 4,
 "nbformat_minor": 2
}
